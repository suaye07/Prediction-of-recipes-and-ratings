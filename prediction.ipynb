{
 "cells": [
  {
   "cell_type": "markdown",
   "metadata": {},
   "source": [
    "# Data Prediction on the food receipes and ratings reviews\n",
    "Prediction rating on the time of the months \n",
    "\n",
    "**Name(s)**: Su Aye \n",
    "\n",
    "**Website Link**: https://suaye07.github.io/Prediction-of-recipes-and-ratings/"
   ]
  },
  {
   "cell_type": "markdown",
   "metadata": {},
   "source": [
    "## Code"
   ]
  },
  {
   "cell_type": "code",
   "execution_count": 143,
   "metadata": {
    "ExecuteTime": {
     "end_time": "2019-10-31T23:36:28.652554Z",
     "start_time": "2019-10-31T23:36:27.180520Z"
    }
   },
   "outputs": [],
   "source": [
    "import pandas as pd\n",
    "import numpy as np\n",
    "import os\n",
    "import seaborn as sns\n",
    "import matplotlib.pyplot as plt\n",
    "import plotly.graph_objects as go\n",
    "import plotly.express as px\n",
    "pd.options.plotting.backend = 'plotly'\n",
    "from tabulate import tabulate\n",
    "import plotly.io as pio\n",
    "pio.renderers.default = 'iframe'"
   ]
  },
  {
   "cell_type": "markdown",
   "metadata": {},
   "source": [
    "### Cleaning"
   ]
  },
  {
   "cell_type": "code",
   "execution_count": 144,
   "metadata": {},
   "outputs": [],
   "source": [
    "raw_interactions = pd.read_csv(\"RAW_interactions.csv\")\n",
    "raw_receipes = pd.read_csv(\"RAW_recipes.csv\")"
   ]
  },
  {
   "cell_type": "code",
   "execution_count": 145,
   "metadata": {},
   "outputs": [
    {
     "data": {
      "text/plain": [
       "(731927, 5)"
      ]
     },
     "execution_count": 145,
     "metadata": {},
     "output_type": "execute_result"
    }
   ],
   "source": [
    "raw_interactions.shape"
   ]
  },
  {
   "cell_type": "code",
   "execution_count": 146,
   "metadata": {},
   "outputs": [
    {
     "data": {
      "text/plain": [
       "(83782, 12)"
      ]
     },
     "execution_count": 146,
     "metadata": {},
     "output_type": "execute_result"
    }
   ],
   "source": [
    "raw_receipes.shape"
   ]
  },
  {
   "cell_type": "code",
   "execution_count": 151,
   "metadata": {},
   "outputs": [],
   "source": [
    "#combine two datasets raw_interactions and raw_receipes \n",
    "combined = pd.merge(raw_interactions, raw_receipes, left_on=\"recipe_id\", right_on=\"id\").drop('id', axis=1)\n",
    "combined['rating'] = combined['rating'].apply(lambda x: np.nan if x == \"0\" else x)\n",
    "combined.dropna(subset=['rating'], inplace=True)"
   ]
  },
  {
   "cell_type": "code",
   "execution_count": 152,
   "metadata": {},
   "outputs": [],
   "source": [
    "combined_cleaned = combined.dropna(subset=['rating'])\n",
    "average_rating_per_recipe = combined_cleaned.groupby(['recipe_id', 'name'])['rating'].mean()"
   ]
  },
  {
   "cell_type": "code",
   "execution_count": 153,
   "metadata": {},
   "outputs": [],
   "source": [
    "cleaned_df = pd.merge(combined, average_rating_per_recipe, left_on=\"recipe_id\", \n",
    "                      right_on=\"recipe_id\")\n",
    "cleaned_df = cleaned_df.drop('rating_x', axis=1)\n",
    "cleaned_df = cleaned_df.rename(columns={'rating_y': 'mean_rating'})\n",
    "cleaned_df = cleaned_df[~cleaned_df['mean_rating'].apply(lambda x: pd.isnull(x))]\n",
    "cleaned_df = cleaned_df.drop_duplicates(subset='user_id')"
   ]
  },
  {
   "cell_type": "code",
   "execution_count": 154,
   "metadata": {},
   "outputs": [],
   "source": [
    "cleaned_df = cleaned_df.dropna(subset=None, how='any')\n",
    "cleaned_df['binary_rating'] = cleaned_df['mean_rating'].apply(lambda x: 0 if x <= 3 else 1)"
   ]
  },
  {
   "cell_type": "markdown",
   "metadata": {},
   "source": [
    "### Baseline Model"
   ]
  },
  {
   "cell_type": "code",
   "execution_count": 130,
   "metadata": {},
   "outputs": [],
   "source": [
    "import pandas as pd\n",
    "import numpy as np\n",
    "import plotly.graph_objects as go\n",
    "from sklearn.pipeline import Pipeline\n",
    "from sklearn.compose import ColumnTransformer\n",
    "from sklearn.preprocessing import OneHotEncoder, StandardScaler\n",
    "from sklearn.linear_model import LogisticRegression\n",
    "from sklearn.model_selection import train_test_split, GridSearchCV\n",
    "from sklearn.metrics import accuracy_score\n",
    "from sklearn.impute import SimpleImputer\n",
    "from sklearn.linear_model import LogisticRegression\n",
    "from sklearn.model_selection import train_test_split\n",
    "from sklearn.ensemble import RandomForestClassifier\n",
    "from sklearn.utils import shuffle"
   ]
  },
  {
   "cell_type": "code",
   "execution_count": 103,
   "metadata": {},
   "outputs": [
    {
     "data": {
      "text/html": [
       "<div>\n",
       "<style scoped>\n",
       "    .dataframe tbody tr th:only-of-type {\n",
       "        vertical-align: middle;\n",
       "    }\n",
       "\n",
       "    .dataframe tbody tr th {\n",
       "        vertical-align: top;\n",
       "    }\n",
       "\n",
       "    .dataframe thead th {\n",
       "        text-align: right;\n",
       "    }\n",
       "</style>\n",
       "<table border=\"1\" class=\"dataframe\">\n",
       "  <thead>\n",
       "    <tr style=\"text-align: right;\">\n",
       "      <th></th>\n",
       "      <th>minutes</th>\n",
       "      <th>tags</th>\n",
       "      <th>n_steps</th>\n",
       "      <th>n_ingredients</th>\n",
       "      <th>binary_rating</th>\n",
       "    </tr>\n",
       "  </thead>\n",
       "  <tbody>\n",
       "    <tr>\n",
       "      <th>0</th>\n",
       "      <td>40</td>\n",
       "      <td>['60-minutes-or-less', 'time-to-make', 'course...</td>\n",
       "      <td>4</td>\n",
       "      <td>8</td>\n",
       "      <td>1</td>\n",
       "    </tr>\n",
       "    <tr>\n",
       "      <th>1</th>\n",
       "      <td>30</td>\n",
       "      <td>['30-minutes-or-less', 'time-to-make', 'course...</td>\n",
       "      <td>9</td>\n",
       "      <td>10</td>\n",
       "      <td>1</td>\n",
       "    </tr>\n",
       "    <tr>\n",
       "      <th>2</th>\n",
       "      <td>22</td>\n",
       "      <td>['30-minutes-or-less', 'time-to-make', 'course...</td>\n",
       "      <td>14</td>\n",
       "      <td>14</td>\n",
       "      <td>1</td>\n",
       "    </tr>\n",
       "    <tr>\n",
       "      <th>3</th>\n",
       "      <td>22</td>\n",
       "      <td>['30-minutes-or-less', 'time-to-make', 'course...</td>\n",
       "      <td>14</td>\n",
       "      <td>14</td>\n",
       "      <td>1</td>\n",
       "    </tr>\n",
       "    <tr>\n",
       "      <th>4</th>\n",
       "      <td>40</td>\n",
       "      <td>['60-minutes-or-less', 'time-to-make', 'course...</td>\n",
       "      <td>7</td>\n",
       "      <td>12</td>\n",
       "      <td>1</td>\n",
       "    </tr>\n",
       "    <tr>\n",
       "      <th>...</th>\n",
       "      <td>...</td>\n",
       "      <td>...</td>\n",
       "      <td>...</td>\n",
       "      <td>...</td>\n",
       "      <td>...</td>\n",
       "    </tr>\n",
       "    <tr>\n",
       "      <th>67176</th>\n",
       "      <td>280</td>\n",
       "      <td>['main-ingredient', 'preparation', 'for-1-or-2...</td>\n",
       "      <td>15</td>\n",
       "      <td>27</td>\n",
       "      <td>0</td>\n",
       "    </tr>\n",
       "    <tr>\n",
       "      <th>67177</th>\n",
       "      <td>280</td>\n",
       "      <td>['main-ingredient', 'preparation', 'for-1-or-2...</td>\n",
       "      <td>15</td>\n",
       "      <td>27</td>\n",
       "      <td>0</td>\n",
       "    </tr>\n",
       "    <tr>\n",
       "      <th>67178</th>\n",
       "      <td>5</td>\n",
       "      <td>['15-minutes-or-less', 'time-to-make', 'course...</td>\n",
       "      <td>4</td>\n",
       "      <td>6</td>\n",
       "      <td>1</td>\n",
       "    </tr>\n",
       "    <tr>\n",
       "      <th>67179</th>\n",
       "      <td>5</td>\n",
       "      <td>['15-minutes-or-less', 'time-to-make', 'course...</td>\n",
       "      <td>4</td>\n",
       "      <td>6</td>\n",
       "      <td>1</td>\n",
       "    </tr>\n",
       "    <tr>\n",
       "      <th>67180</th>\n",
       "      <td>21</td>\n",
       "      <td>['30-minutes-or-less', 'time-to-make', 'course...</td>\n",
       "      <td>9</td>\n",
       "      <td>8</td>\n",
       "      <td>1</td>\n",
       "    </tr>\n",
       "  </tbody>\n",
       "</table>\n",
       "<p>67181 rows × 5 columns</p>\n",
       "</div>"
      ],
      "text/plain": [
       "       minutes                                               tags  n_steps  \\\n",
       "0           40  ['60-minutes-or-less', 'time-to-make', 'course...        4   \n",
       "1           30  ['30-minutes-or-less', 'time-to-make', 'course...        9   \n",
       "2           22  ['30-minutes-or-less', 'time-to-make', 'course...       14   \n",
       "3           22  ['30-minutes-or-less', 'time-to-make', 'course...       14   \n",
       "4           40  ['60-minutes-or-less', 'time-to-make', 'course...        7   \n",
       "...        ...                                                ...      ...   \n",
       "67176      280  ['main-ingredient', 'preparation', 'for-1-or-2...       15   \n",
       "67177      280  ['main-ingredient', 'preparation', 'for-1-or-2...       15   \n",
       "67178        5  ['15-minutes-or-less', 'time-to-make', 'course...        4   \n",
       "67179        5  ['15-minutes-or-less', 'time-to-make', 'course...        4   \n",
       "67180       21  ['30-minutes-or-less', 'time-to-make', 'course...        9   \n",
       "\n",
       "       n_ingredients  binary_rating  \n",
       "0                  8              1  \n",
       "1                 10              1  \n",
       "2                 14              1  \n",
       "3                 14              1  \n",
       "4                 12              1  \n",
       "...              ...            ...  \n",
       "67176             27              0  \n",
       "67177             27              0  \n",
       "67178              6              1  \n",
       "67179              6              1  \n",
       "67180              8              1  \n",
       "\n",
       "[67181 rows x 5 columns]"
      ]
     },
     "execution_count": 103,
     "metadata": {},
     "output_type": "execute_result"
    }
   ],
   "source": [
    "cleaned_df = cleaned_df.drop(columns=['user_id','recipe_id','date','review','name',\n",
    "                                      'contributor_id','submitted','nutrition',\n",
    "                                      'steps','description','ingredients',\n",
    "                                      'mean_rating'])\n",
    "cleaned_df.dropna(subset=['minutes'], inplace=True)\n",
    "cleaned_df.dropna(subset=['tags'], inplace=True)\n",
    "cleaned_df.dropna(subset=['n_ingredients'], inplace=True)\n",
    "cleaned_df.dropna(subset=['binary_rating'], inplace=True)\n",
    "cleaned_df = cleaned_df.reset_index(drop=True)\n",
    "cleaned_df"
   ]
  },
  {
   "cell_type": "code",
   "execution_count": 13,
   "metadata": {},
   "outputs": [],
   "source": [
    "X = cleaned_df.drop(columns=['binary_rating'])\n",
    "y = cleaned_df['binary_rating']\n",
    "\n",
    "X_train, X_test, y_train, y_test = train_test_split(\n",
    "    X,y, test_size=0.2, random_state=42)\n",
    "\n",
    "preprocessor = ColumnTransformer(\n",
    "    transformers=[\n",
    "        ('numeric', StandardScaler(), ['n_steps','minutes']),\n",
    "    ])\n",
    "\n",
    "pipeline = Pipeline(steps=[('preprocessor', preprocessor), \n",
    "                           ('rfc', RandomForestClassifier())\n",
    "])"
   ]
  },
  {
   "cell_type": "code",
   "execution_count": 14,
   "metadata": {},
   "outputs": [
    {
     "data": {
      "text/plain": [
       "Pipeline(steps=[('preprocessor',\n",
       "                 ColumnTransformer(transformers=[('numeric', StandardScaler(),\n",
       "                                                  ['n_steps', 'minutes'])])),\n",
       "                ('rfc', RandomForestClassifier())])"
      ]
     },
     "execution_count": 14,
     "metadata": {},
     "output_type": "execute_result"
    }
   ],
   "source": [
    "pipeline.fit(X_train, y_train)"
   ]
  },
  {
   "cell_type": "code",
   "execution_count": 15,
   "metadata": {},
   "outputs": [
    {
     "name": "stdout",
     "output_type": "stream",
     "text": [
      "Accuracy: 0.8613529805760214\n"
     ]
    }
   ],
   "source": [
    "y_pred = pipeline.predict(X_test)\n",
    "\n",
    "accuracy = accuracy_score(y_test, y_pred)\n",
    "print(f\"Accuracy: {accuracy}\")"
   ]
  },
  {
   "cell_type": "markdown",
   "metadata": {},
   "source": [
    "### Final Model"
   ]
  },
  {
   "cell_type": "code",
   "execution_count": 110,
   "metadata": {},
   "outputs": [],
   "source": [
    "X = cleaned_df.drop(columns=['binary_rating'])\n",
    "y = cleaned_df['binary_rating']\n",
    "\n",
    "X_train, X_test, y_train, y_test = train_test_split(\n",
    "    X,y, test_size=0.2, random_state=42)"
   ]
  },
  {
   "cell_type": "code",
   "execution_count": 120,
   "metadata": {},
   "outputs": [],
   "source": [
    "preproc = ColumnTransformer([\n",
    "    (\"cap_gains_pass\", QuantileTransformer(), ['n_steps','minutes','n_ingredients']),\n",
    "    (\"one-hot\", OneHotEncoder(handle_unknown = 'ignore'), ['tags'])\n",
    "])\n",
    "pipeline = Pipeline([\n",
    "    ('preprocesser', preproc),\n",
    "    ('rfc', RandomForestClassifier())\n",
    "])"
   ]
  },
  {
   "cell_type": "code",
   "execution_count": 121,
   "metadata": {},
   "outputs": [
    {
     "data": {
      "text/plain": [
       "GridSearchCV(cv=5,\n",
       "             estimator=Pipeline(steps=[('preprocesser',\n",
       "                                        ColumnTransformer(transformers=[('cap_gains_pass',\n",
       "                                                                         QuantileTransformer(),\n",
       "                                                                         ['n_steps',\n",
       "                                                                          'minutes',\n",
       "                                                                          'n_ingredients']),\n",
       "                                                                        ('one-hot',\n",
       "                                                                         OneHotEncoder(handle_unknown='ignore'),\n",
       "                                                                         ['tags'])])),\n",
       "                                       ('rfc', RandomForestClassifier())]),\n",
       "             n_jobs=-1,\n",
       "             param_grid={'rfc__max_depth': [None, 5],\n",
       "                         'rfc__min_samples_split': [2, 5],\n",
       "                         'rfc__n_estimators': [10, 20]})"
      ]
     },
     "execution_count": 121,
     "metadata": {},
     "output_type": "execute_result"
    }
   ],
   "source": [
    "params= {\n",
    "    'rfc__n_estimators': [10, 20],  \n",
    "    'rfc__max_depth': [None, 5],\n",
    "    'rfc__min_samples_split': [2, 5]  \n",
    "}\n",
    "searcher = GridSearchCV(pl, params, cv=5, n_jobs=-1)\n",
    "searcher.fit(X_train, y_train)"
   ]
  },
  {
   "cell_type": "code",
   "execution_count": 122,
   "metadata": {},
   "outputs": [
    {
     "name": "stdout",
     "output_type": "stream",
     "text": [
      "Accuracy: 0.930043908610553\n"
     ]
    }
   ],
   "source": [
    "pipeline.fit(X_train, y_train)\n",
    "final_accuracy = pipeline.score(X_test, y_test)\n",
    "print(f\"Accuracy: {final_accuracy}\")"
   ]
  },
  {
   "cell_type": "code",
   "execution_count": 114,
   "metadata": {},
   "outputs": [
    {
     "data": {
      "text/plain": [
       "{'rfc__max_depth': None, 'rfc__min_samples_split': 2, 'rfc__n_estimators': 20}"
      ]
     },
     "execution_count": 114,
     "metadata": {},
     "output_type": "execute_result"
    }
   ],
   "source": [
    "searcher.best_params_"
   ]
  },
  {
   "cell_type": "markdown",
   "metadata": {},
   "source": [
    "### Fairness Analysis"
   ]
  },
  {
   "cell_type": "code",
   "execution_count": 124,
   "metadata": {},
   "outputs": [
    {
     "data": {
      "text/html": [
       "<div>\n",
       "<style scoped>\n",
       "    .dataframe tbody tr th:only-of-type {\n",
       "        vertical-align: middle;\n",
       "    }\n",
       "\n",
       "    .dataframe tbody tr th {\n",
       "        vertical-align: top;\n",
       "    }\n",
       "\n",
       "    .dataframe thead th {\n",
       "        text-align: right;\n",
       "    }\n",
       "</style>\n",
       "<table border=\"1\" class=\"dataframe\">\n",
       "  <thead>\n",
       "    <tr style=\"text-align: right;\">\n",
       "      <th></th>\n",
       "      <th>Count</th>\n",
       "    </tr>\n",
       "  </thead>\n",
       "  <tbody>\n",
       "    <tr>\n",
       "      <th>1</th>\n",
       "      <td>57495</td>\n",
       "    </tr>\n",
       "    <tr>\n",
       "      <th>0</th>\n",
       "      <td>9686</td>\n",
       "    </tr>\n",
       "  </tbody>\n",
       "</table>\n",
       "</div>"
      ],
      "text/plain": [
       "   Count\n",
       "1  57495\n",
       "0   9686"
      ]
     },
     "execution_count": 124,
     "metadata": {},
     "output_type": "execute_result"
    }
   ],
   "source": [
    "binary_count = cleaned_df['binary_rating'].value_counts()\n",
    "df = pd.DataFrame(binary_count)\n",
    "binary_df = df.rename(columns={'binary_rating': 'Count'})\n",
    "binary_df"
   ]
  },
  {
   "cell_type": "code",
   "execution_count": 142,
   "metadata": {},
   "outputs": [
    {
     "data": {
      "text/html": [
       "<iframe\n",
       "    scrolling=\"no\"\n",
       "    width=\"100%\"\n",
       "    height=\"545px\"\n",
       "    src=\"iframe_figures/figure_142.html\"\n",
       "    frameborder=\"0\"\n",
       "    allowfullscreen\n",
       "></iframe>\n"
      ]
     },
     "metadata": {},
     "output_type": "display_data"
    }
   ],
   "source": [
    "fig = go.Figure(data=[go.Pie(labels=binary_df.index, values=binary_df['Count'])])\n",
    "fig.update_layout(title='Count of Binary Ratings<br>(1 being rating{4 and 5},0 being rating{0,1,2,3})')\n",
    "fig.show()\n",
    "fig.write_html('count_binary_rating.html')"
   ]
  },
  {
   "cell_type": "markdown",
   "metadata": {},
   "source": [
    "For my model, I will be using permutation test analysis to run observed values and p-value to test the model.\n",
    "\n",
    "Null Hypothesis: Model is fair! There is no significant association between the features 'minutes', 'n_steps', and 'n_ingredients' and the binary rating 0s and 1s. \n",
    "\n",
    "Alternative Hypothesis: There is a significant association between the features 'minutes', 'n_steps', and 'n_ingredients' and the binary rating 0s and 1s. "
   ]
  },
  {
   "cell_type": "code",
   "execution_count": 133,
   "metadata": {},
   "outputs": [
    {
     "name": "stdout",
     "output_type": "stream",
     "text": [
      "Observed value: 0.8558818713624388\n",
      "P-value: 0.000999000999000999\n"
     ]
    }
   ],
   "source": [
    "X = cleaned_df[['minutes', 'n_steps', 'n_ingredients']]\n",
    "y = cleaned_df['binary_rating']\n",
    "\n",
    "model = LogisticRegression()\n",
    "model.fit(X, y)\n",
    "observed_score = model.score(X, y)\n",
    "\n",
    "num_permutations = 1000\n",
    "permutation_scores = []\n",
    "\n",
    "for _ in range(num_permutations):\n",
    "    shuffled_labels = shuffle(y)\n",
    "    model.fit(X, shuffled_labels)\n",
    "    permutation_score = model.score(X, shuffled_labels)\n",
    "    permutation_scores.append(permutation_score)\n",
    "\n",
    "p_value = (np.sum(permutation_scores >= observed_score) + 1) / (num_permutations + 1)\n",
    "\n",
    "print(f\"Observed value: {observed_score}\")\n",
    "print(f\"P-value: {p_value}\")"
   ]
  },
  {
   "cell_type": "markdown",
   "metadata": {},
   "source": [
    "### Extra Code for website"
   ]
  },
  {
   "cell_type": "code",
   "execution_count": 104,
   "metadata": {},
   "outputs": [
    {
     "name": "stdout",
     "output_type": "stream",
     "text": [
      "|    |   minutes | tags                                                                                                                                                                                                                                                                                                                                                                                                    |   n_steps |   n_ingredients |   binary_rating |\n",
      "|---:|----------:|:--------------------------------------------------------------------------------------------------------------------------------------------------------------------------------------------------------------------------------------------------------------------------------------------------------------------------------------------------------------------------------------------------------|----------:|----------------:|----------------:|\n",
      "|  0 |        40 | ['60-minutes-or-less', 'time-to-make', 'course', 'main-ingredient', 'preparation', 'occasion', 'low-protein', 'healthy', 'appetizers', 'side-dishes', 'fruit', 'vegetables', 'easy', 'beginner-cook', 'low-fat', 'picnic', 'summer', 'dietary', 'low-cholesterol', 'seasonal', 'low-saturated-fat', 'low-calorie', 'healthy-2', 'low-in-something', 'pitted-fruit', 'corn', 'to-go', '3-steps-or-less'] |         4 |               8 |               1 |\n",
      "|  1 |        30 | ['30-minutes-or-less', 'time-to-make', 'course', 'main-ingredient', 'cuisine', 'preparation', 'occasion', 'breakfast', 'fruit', 'french', 'european', 'kid-friendly', 'dietary', 'berries', 'strawberries', 'brunch']                                                                                                                                                                                   |         9 |              10 |               1 |\n",
      "|  2 |        22 | ['30-minutes-or-less', 'time-to-make', 'course', 'preparation', 'occasion', 'drop-cookies', 'breakfast', 'desserts', 'finger-food', 'cookies-and-brownies', 'comfort-food', 'brown-bag', 'taste-mood', 'sweet', 'to-go', 'presentation']                                                                                                                                                                |        14 |              14 |               1 |\n",
      "|  3 |        22 | ['30-minutes-or-less', 'time-to-make', 'course', 'preparation', 'occasion', 'drop-cookies', 'breakfast', 'desserts', 'finger-food', 'cookies-and-brownies', 'comfort-food', 'brown-bag', 'taste-mood', 'sweet', 'to-go', 'presentation']                                                                                                                                                                |        14 |              14 |               1 |\n",
      "|  4 |        40 | ['60-minutes-or-less', 'time-to-make', 'course', 'preparation', 'desserts', 'cookies-and-brownies']                                                                                                                                                                                                                                                                                                     |         7 |              12 |               1 |\n"
     ]
    }
   ],
   "source": [
    "print(cleaned_df.head().to_markdown(index=True))"
   ]
  },
  {
   "cell_type": "code",
   "execution_count": 126,
   "metadata": {},
   "outputs": [
    {
     "name": "stdout",
     "output_type": "stream",
     "text": [
      "|    |   Count |\n",
      "|---:|--------:|\n",
      "|  1 |   57495 |\n",
      "|  0 |    9686 |\n"
     ]
    }
   ],
   "source": [
    "print(binary_df.head().to_markdown(index=True))"
   ]
  }
 ],
 "metadata": {
  "kernelspec": {
   "display_name": "Python 3 (ipykernel)",
   "language": "python",
   "name": "python3"
  },
  "language_info": {
   "codemirror_mode": {
    "name": "ipython",
    "version": 3
   },
   "file_extension": ".py",
   "mimetype": "text/x-python",
   "name": "python",
   "nbconvert_exporter": "python",
   "pygments_lexer": "ipython3",
   "version": "3.8.16"
  }
 },
 "nbformat": 4,
 "nbformat_minor": 2
}
